{
 "cells": [
  {
   "cell_type": "code",
   "execution_count": 3,
   "id": "16fc1392",
   "metadata": {},
   "outputs": [],
   "source": [
    "import random\n",
    "import string"
   ]
  },
  {
   "cell_type": "code",
   "execution_count": 8,
   "id": "44e84654",
   "metadata": {},
   "outputs": [],
   "source": [
    "url='www.google.com'"
   ]
  },
  {
   "cell_type": "code",
   "execution_count": 9,
   "id": "dafc06c4",
   "metadata": {},
   "outputs": [],
   "source": [
    "DB={}"
   ]
  },
  {
   "cell_type": "markdown",
   "id": "ae534a11",
   "metadata": {},
   "source": [
    "#Version 1"
   ]
  },
  {
   "cell_type": "code",
   "execution_count": 19,
   "id": "0d862eb7",
   "metadata": {},
   "outputs": [],
   "source": [
    "def getShortURL(longURL):\n",
    "    l = random.randint(4,6)\n",
    "    char = string.ascii_lowercase\n",
    "    shortURL = ''.join(random.choice(char) for i in range(l))\n",
    "    \n",
    "    if shortURL is DB:\n",
    "        return getShortURL(longURL)\n",
    "    else:\n",
    "        DB[shortURL] = longURL\n",
    "    \n",
    "    result = 'ip.in/'+shortURL\n",
    "    return result\n",
    "    \n",
    "    \n",
    "    \n",
    "    "
   ]
  },
  {
   "cell_type": "code",
   "execution_count": 20,
   "id": "7c701a60",
   "metadata": {},
   "outputs": [
    {
     "data": {
      "text/plain": [
       "'ip.in/rghu'"
      ]
     },
     "execution_count": 20,
     "metadata": {},
     "output_type": "execute_result"
    }
   ],
   "source": [
    "getShortURL('https://wwww.google.com')"
   ]
  },
  {
   "cell_type": "code",
   "execution_count": 18,
   "id": "206dacd2",
   "metadata": {},
   "outputs": [
    {
     "data": {
      "text/plain": [
       "{'mbhubc': 'https://wwww.google.com', 'ysr': 'https://wwww.google.com'}"
      ]
     },
     "execution_count": 18,
     "metadata": {},
     "output_type": "execute_result"
    }
   ],
   "source": [
    "DB"
   ]
  },
  {
   "cell_type": "code",
   "execution_count": 22,
   "id": "4ce97bd8",
   "metadata": {},
   "outputs": [],
   "source": [
    "def getlongURL(shortURL):\n",
    "    'given a short url returns a long url'\n",
    "    \n",
    "    key=shortURL.split('/')[-1]\n",
    "    \n",
    "    if key in DB:\n",
    "        return DB[key]\n",
    "    else:\n",
    "        return \"Short URL dosen't exist\"\n",
    "    "
   ]
  },
  {
   "cell_type": "code",
   "execution_count": 24,
   "id": "fc22ee55",
   "metadata": {},
   "outputs": [
    {
     "data": {
      "text/plain": [
       "'https://wwww.google.com'"
      ]
     },
     "execution_count": 24,
     "metadata": {},
     "output_type": "execute_result"
    }
   ],
   "source": [
    "getlongURL('ip.in/rghu')"
   ]
  },
  {
   "cell_type": "code",
   "execution_count": 25,
   "id": "f98be787",
   "metadata": {},
   "outputs": [
    {
     "data": {
      "text/plain": [
       "\"Short URL dosen't exist\""
      ]
     },
     "execution_count": 25,
     "metadata": {},
     "output_type": "execute_result"
    }
   ],
   "source": [
    "getlongURL('ip.in/abcde')"
   ]
  },
  {
   "cell_type": "markdown",
   "id": "e0e07e24",
   "metadata": {},
   "source": [
    "Version 2"
   ]
  },
  {
   "cell_type": "code",
   "execution_count": 38,
   "id": "938e4848",
   "metadata": {},
   "outputs": [],
   "source": [
    "def getShortURL(longURL):\n",
    "    l = random.randint(4,6)\n",
    "    char = string.ascii_lowercase + string.digits\n",
    "    shortURL = ''.join(random.choice(char) for i in range(l))\n",
    "    \n",
    "    if shortURL is DB:\n",
    "        return getShortURL(longURL)\n",
    "    else:\n",
    "        DB[shortURL] = longURL\n",
    "    \n",
    "    result = 'ip.in/'+shortURL\n",
    "    return result"
   ]
  },
  {
   "cell_type": "code",
   "execution_count": 39,
   "id": "d3df1ae7",
   "metadata": {},
   "outputs": [
    {
     "data": {
      "text/plain": [
       "'ip.in/uvry97'"
      ]
     },
     "execution_count": 39,
     "metadata": {},
     "output_type": "execute_result"
    }
   ],
   "source": [
    "getShortURL('https://www.amazon.in')"
   ]
  },
  {
   "cell_type": "code",
   "execution_count": null,
   "id": "9a6ed15c",
   "metadata": {},
   "outputs": [],
   "source": []
  }
 ],
 "metadata": {
  "kernelspec": {
   "display_name": "Python 3",
   "language": "python",
   "name": "python3"
  },
  "language_info": {
   "codemirror_mode": {
    "name": "ipython",
    "version": 3
   },
   "file_extension": ".py",
   "mimetype": "text/x-python",
   "name": "python",
   "nbconvert_exporter": "python",
   "pygments_lexer": "ipython3",
   "version": "3.8.8"
  }
 },
 "nbformat": 4,
 "nbformat_minor": 5
}
